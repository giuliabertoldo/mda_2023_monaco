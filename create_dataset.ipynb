{
 "cells": [
  {
   "attachments": {},
   "cell_type": "markdown",
   "metadata": {},
   "source": [
    "## Create dataset "
   ]
  },
  {
   "attachments": {},
   "cell_type": "markdown",
   "metadata": {},
   "source": [
    "This notebook creates the initial dataset used in further steps of the analytic pipeline (preprocessing, visualizations, analyses etc.), and it combines three data sources: \n",
    "\n",
    "1. Noise data for the year 2022 in eight locations in Leuven, obtained from the city of Leuven.\n",
    "\n",
    "2. Meteo data for the year 2022, obtained from authors of the paper *Quality control and correction method for air temperature data from citizen science weather station network in Leuven, Belgium*.  \n",
    "\n",
    "3. Opening hours of bars, pubs, clubs... around the locations of interest, obtained from Google maps API. \n",
    "\n",
    "\n",
    "Note that this notebook is not \"automatically reproducible\" because it requires: \n",
    "\n",
    "* Key to Google maps API which has not been shared here. To obtain the key, create a Google Cloud account (free trial available), create a project and enable the \"places API\" in the project. Then, copy-paste your key in the `create_final_csv_functions.py` file.\n",
    "\n",
    "* Access to the S3 bucket to store the csvs of intermediate steps and the final csv. All files in S3 bucket \"s3://mda.project.monaco/\" have public access in read-only mode; however, to be able to write files in the S3 bucket you need to be given access as a IAM user. "
   ]
  },
  {
   "cell_type": "code",
   "execution_count": 1,
   "metadata": {},
   "outputs": [],
   "source": [
    "# Import packages, functions and API key\n",
    "%run 'create_dataset_functions.py'"
   ]
  },
  {
   "cell_type": "code",
   "execution_count": null,
   "metadata": {},
   "outputs": [],
   "source": [
    "# Using the provided noise and meteo data, create one csv containing data for all months with noise data grouped every 10 minutes and meteo data \n",
    "\n",
    "months = [\"Jan\", \"Feb\", \"March\", \"April\",\"May\", \"June\", \"Jul\", \"Aug\", \"Sep\", \"Oct\", \"Nov\", \"Dec\"]   \n",
    "\n",
    "for m in months: \n",
    "    create_noise_meteo_csv_by_month(m)\n",
    "\n",
    "concatenate_noise_meteo_sub_csv()\n",
    "\n",
    "# The csv was uploaded to s3 bucket at: \"s3://mda.project.monaco/project_data_v1.csv\""
   ]
  },
  {
   "cell_type": "code",
   "execution_count": 3,
   "metadata": {},
   "outputs": [],
   "source": [
    "# Get data from Google maps API regarding the number of bars, pubs, clubs etc. open within a radius of 100 m at each location for each day of the week and time.\n",
    "\n",
    "df_coordinates = coordinates_locations() \n",
    "\n",
    "# Extract location names as list to be used for later naming of csv files. \n",
    "names = df_coordinates['location_name'].tolist()\n",
    "\n",
    "# For each location, obtain url to send request to Google Maps API\n",
    "urls = urls_locations(df_coordinates)\n",
    "\n",
    "# Create one csv per location with opening hours. Save in s3 bucket: \"s3://mda.project.monaco/location_%s.csv\" %(location_id) \n",
    "opening_hours_locations_csv(urls, names)\n",
    "\n",
    "# Create one dataframe with opening hours for all locations, save as csv, and upload to s3 bucket: s3://mda.project.monaco/openings.csv \n",
    "df_out = pd.DataFrame()\n",
    "for n in names: \n",
    "    df_out = pd.concat([df_out, count_open_bars(n)])\n",
    "\n",
    "df_out.to_csv(\"data/openings.csv\", index=False) \n"
   ]
  },
  {
   "cell_type": "code",
   "execution_count": null,
   "metadata": {},
   "outputs": [],
   "source": [
    "# Merge noise and meteo data with counts of open bars, pubs, clubs etc.\n",
    "df = pd.read_csv(\"s3://mda.project.monaco/project_data_v1.csv\") \n",
    "df_openings = pd.read_csv(\"s3://mda.project.monaco/openings.csv\")\n",
    "\n",
    "df_merged = merger(df, df_openings)\n",
    "\n",
    "# Save final dataset and upload to s3 bucket at: \"s3://mda.project.monaco/project_data.csv\"\n",
    "df_merged.to_csv(\"data/project_data.csv\", index=False) "
   ]
  }
 ],
 "metadata": {
  "kernelspec": {
   "display_name": "mda_2023_project_env",
   "language": "python",
   "name": "python3"
  },
  "language_info": {
   "codemirror_mode": {
    "name": "ipython",
    "version": 3
   },
   "file_extension": ".py",
   "mimetype": "text/x-python",
   "name": "python",
   "nbconvert_exporter": "python",
   "pygments_lexer": "ipython3",
   "version": "3.9.5"
  },
  "orig_nbformat": 4
 },
 "nbformat": 4,
 "nbformat_minor": 2
}
