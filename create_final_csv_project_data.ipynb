{
 "cells": [
  {
   "cell_type": "code",
   "execution_count": 1,
   "metadata": {},
   "outputs": [],
   "source": [
    "# Import packages and custom functions\n",
    "%run 'create_final_csv_functions.py'"
   ]
  },
  {
   "cell_type": "code",
   "execution_count": null,
   "metadata": {},
   "outputs": [],
   "source": [
    "# CREATE CSV WITH NOISE AND METEO DATA \n",
    "months = [\"Jan\", \"Feb\", \"March\", \"April\",\"May\", \"June\", \"Jul\", \"Aug\", \"Sep\", \"Oct\", \"Nov\", \"Dec\"]   \n",
    "for m in months: \n",
    "    create_final_csv_by_month(m)\n",
    "\n",
    "# Concatenate all months in one csv\n",
    "concatenate_noise_sub_csv()\n",
    "# The csv was uploaded to s3 bucket"
   ]
  },
  {
   "cell_type": "code",
   "execution_count": 35,
   "metadata": {},
   "outputs": [],
   "source": [
    "# ADD TO PREVIOUS CSV ONE COLUMN WITH COUNT BARS OPEN USING DATA FROM GOOGLE MAPS API \n",
    "# Read datasets to merge\n",
    "df = pd.read_csv(\"s3://mda.project.monaco/project_data_v1.csv\") \n",
    "df_openings = pd.read_csv(\"s3://mda.project.monaco/openings.csv\")\n",
    "\n",
    "# Delete dulci_open variable \n",
    "df = df.drop('dulci_open', axis=1)\n",
    "\n",
    "# Rename day into day_of_week\n",
    "df_openings = df_openings.rename(columns={\"day\": \"day_of_week\"})\n",
    "\n",
    "# Add to df a column \"location_name\" that can be used as key when joining\n",
    "for i, row in df.iterrows(): \n",
    "    if \"01\" in row[\"description\"]:\n",
    "        df.at[i,'location_name'] = \"01\"\n",
    "    elif \"02\" in row[\"description\"]:\n",
    "        df.at[i,'location_name'] = \"02\"\n",
    "    elif \"03\" in row[\"description\"]:\n",
    "        df.at[i,'location_name'] = \"03\"\n",
    "    elif \"04\" in row[\"description\"]:\n",
    "        df.at[i,'location_name'] = \"04\"\n",
    "    elif \"05\" in row[\"description\"]:\n",
    "        df.at[i,'location_name'] = \"05\"\n",
    "    elif \"06\" in row[\"description\"]:\n",
    "        df.at[i,'location_name'] = \"06\"\n",
    "    elif \"07\" in row[\"description\"]:\n",
    "        df.at[i,'location_name'] = \"07\"\n",
    "    elif \"Vrijthof\" in row[\"description\"]:\n",
    "        df.at[i,'location_name'] = \"Vrijthof\"\n",
    "\n",
    "# Merge \n",
    "df_merged = pd.merge(left = df, right=df_openings, on = [\"day_of_week\", \"hour\", \"location_name\"])\n",
    "\n",
    "# Remove location_name variable\n",
    "df_merged = df_merged.drop('location_name', axis=1)\n",
    "\n",
    "# Save dataset and upload to s3 bucket at: \"s3://mda.project.monaco/project_data.csv\"\n",
    "df_merged.to_csv(\"data/project_data.csv\", index=False) "
   ]
  }
 ],
 "metadata": {
  "kernelspec": {
   "display_name": "mda_2023_project_env",
   "language": "python",
   "name": "python3"
  },
  "language_info": {
   "codemirror_mode": {
    "name": "ipython",
    "version": 3
   },
   "file_extension": ".py",
   "mimetype": "text/x-python",
   "name": "python",
   "nbconvert_exporter": "python",
   "pygments_lexer": "ipython3",
   "version": "3.9.5"
  },
  "orig_nbformat": 4
 },
 "nbformat": 4,
 "nbformat_minor": 2
}
