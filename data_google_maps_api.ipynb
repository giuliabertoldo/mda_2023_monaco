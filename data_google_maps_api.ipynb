{
 "cells": [
  {
   "cell_type": "code",
   "execution_count": 1,
   "metadata": {},
   "outputs": [],
   "source": [
    "%run google_maps_api_functions.py"
   ]
  },
  {
   "cell_type": "code",
   "execution_count": null,
   "metadata": {},
   "outputs": [],
   "source": [
    "# Create dataframe with location name, latitude, longitude.  \n",
    "df_coordinates = pd.DataFrame(\n",
    "    [[\"01\", \"50.87725045952269\", \"4.700713376547312\"],\n",
    "     [\"02\", \"50.87667332973864\", \"4.700680922840582\"],\n",
    "     [\"03\", \"50.875965600507456\", \"4.7002780085017495\"],\n",
    "     [\"04\", \"50.87563410304464\", \"4.700197458227693\"],\n",
    "     [\"05\", \"50.87464931652004\", \"4.699889649514398\"],\n",
    "     [\"06\", \"50.87424051538546\", \"4.700098238567968\"],\n",
    "     [\"07\", \"50.873946807679744\", \"4.700107077294445\"],\n",
    "     [\"Vrijthof\", \"50.879041132675574\", \"4.701208864753383\"]\n",
    "    ], \n",
    "     columns = [\"location_name\", \"lat\", \"lon\"]\n",
    ")"
   ]
  },
  {
   "cell_type": "code",
   "execution_count": 6,
   "metadata": {},
   "outputs": [],
   "source": [
    "# Extract location names as list to be used for later naming of csv files. \n",
    "names = df_coordinates['location_name'].tolist()"
   ]
  },
  {
   "cell_type": "code",
   "execution_count": 17,
   "metadata": {},
   "outputs": [],
   "source": [
    "# For each location, obtain url to send request to Google Maps API\n",
    "urls = urls_locations(df_coordinates)"
   ]
  },
  {
   "cell_type": "code",
   "execution_count": 20,
   "metadata": {},
   "outputs": [],
   "source": [
    "for j, url in enumerate(urls):\n",
    "    # For each location (url), obtain ids of niglife places within a radius of 100 m. \n",
    "    ids = get_ids_places(url)\n",
    "    \n",
    "    # Initialize output\n",
    "    df_info = pd.DataFrame()\n",
    "\n",
    "    # For each nighlife place, obtain opening times. \n",
    "    for i, id in enumerate(ids):\n",
    "        weekday_hours = get_week_hours(id) \n",
    "\n",
    "        # If the opening hours are available, clean them to be ready for further processing.\n",
    "        if weekday_hours is not None: \n",
    "            info = openings(weekday_hours)\n",
    "            df_info.loc[i, \"info\"] = info\n",
    "        \n",
    "        elif weekday_hours is None: \n",
    "            df_info.loc[i, \"info\"] = None\n",
    "    \n",
    "    # Save opening hours of nighlife places close to targe location in a csv for later analysis. \n",
    "    df_info.to_csv(\"data/location_%s.csv\" %(names[j]), index=False)\n",
    "\n",
    "    # Files were uploaded to s3 bucket: \"s3://mda.project.monaco/location_%s.csv\" %(location_id)\n"
   ]
  },
  {
   "cell_type": "code",
   "execution_count": 9,
   "metadata": {},
   "outputs": [],
   "source": [
    "# Initialize output dataframe with counts of number of nighlife places that are open for all locations. \n",
    "df_out = pd.DataFrame()\n",
    "\n",
    "# For eahc location, append dataframe with counts\n",
    "for n in names: \n",
    "    df_out = pd.concat([df_out, count_open_bars(n)])\n",
    "\n",
    "# Save df_out as csv\n",
    "df_out.to_csv(\"data/openings.csv\", index=False) \n",
    "\n",
    "# The file was uploaded to s3 bucket: s3://mda.project.monaco/openings.csv"
   ]
  }
 ],
 "metadata": {
  "kernelspec": {
   "display_name": "mda_2023_monaco_env",
   "language": "python",
   "name": "python3"
  },
  "language_info": {
   "codemirror_mode": {
    "name": "ipython",
    "version": 3
   },
   "file_extension": ".py",
   "mimetype": "text/x-python",
   "name": "python",
   "nbconvert_exporter": "python",
   "pygments_lexer": "ipython3",
   "version": "3.9.5"
  },
  "orig_nbformat": 4
 },
 "nbformat": 4,
 "nbformat_minor": 2
}
