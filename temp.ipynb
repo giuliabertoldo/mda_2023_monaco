{
 "cells": [
  {
   "cell_type": "code",
   "execution_count": null,
   "metadata": {},
   "outputs": [],
   "source": [
    "# Upload noise_sub folder in s3 bucket "
   ]
  },
  {
   "cell_type": "code",
   "execution_count": null,
   "metadata": {},
   "outputs": [],
   "source": [
    "# Concatenate all months in one csv\n",
    "concatenate_noise_sub_csv()"
   ]
  },
  {
   "cell_type": "code",
   "execution_count": null,
   "metadata": {},
   "outputs": [],
   "source": [
    "def concatenate_noise_sub_csv():\n",
    "    \"\"\" Concatenate all csv in noise_sub folder in s3 bucket. \"\"\"\n",
    "    client = boto3.client('s3')\n",
    "\n",
    "    response = client.list_objects_v2(\n",
    "        Bucket='mda.project.monaco',\n",
    "        Prefix='noise_data/noise_sub')\n",
    "    \n",
    "    df = pd.concat([pd.read_csv(\"s3://mda.project.monaco/\"+file['Key'])for file in response.get('Contents', [])])\n",
    "\n",
    "    df.to_csv(\"data/final.csv\", index = False) \n",
    "\n",
    "    return(df)"
   ]
  }
 ],
 "metadata": {
  "kernelspec": {
   "display_name": "mda_2023_monaco_env",
   "language": "python",
   "name": "python3"
  },
  "language_info": {
   "codemirror_mode": {
    "name": "ipython",
    "version": 3
   },
   "file_extension": ".py",
   "mimetype": "text/x-python",
   "name": "python",
   "nbconvert_exporter": "python",
   "pygments_lexer": "ipython3",
   "version": "3.9.5"
  },
  "orig_nbformat": 4
 },
 "nbformat": 4,
 "nbformat_minor": 2
}
