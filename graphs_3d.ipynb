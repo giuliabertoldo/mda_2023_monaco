{
 "cells": [
  {
   "cell_type": "code",
   "execution_count": 1,
   "id": "f7675454",
   "metadata": {},
   "outputs": [
    {
     "data": {
      "text/html": [
       "        <script type=\"text/javascript\">\n",
       "        window.PlotlyConfig = {MathJaxConfig: 'local'};\n",
       "        if (window.MathJax && window.MathJax.Hub && window.MathJax.Hub.Config) {window.MathJax.Hub.Config({SVG: {font: \"STIX-Web\"}});}\n",
       "        if (typeof require !== 'undefined') {\n",
       "        require.undef(\"plotly\");\n",
       "        requirejs.config({\n",
       "            paths: {\n",
       "                'plotly': ['https://cdn.plot.ly/plotly-2.12.1.min']\n",
       "            }\n",
       "        });\n",
       "        require(['plotly'], function(Plotly) {\n",
       "            window._Plotly = Plotly;\n",
       "        });\n",
       "        }\n",
       "        </script>\n",
       "        "
      ]
     },
     "metadata": {},
     "output_type": "display_data"
    },
    {
     "data": {
      "text/html": [
       "        <script type=\"text/javascript\">\n",
       "        window.PlotlyConfig = {MathJaxConfig: 'local'};\n",
       "        if (window.MathJax && window.MathJax.Hub && window.MathJax.Hub.Config) {window.MathJax.Hub.Config({SVG: {font: \"STIX-Web\"}});}\n",
       "        if (typeof require !== 'undefined') {\n",
       "        require.undef(\"plotly\");\n",
       "        requirejs.config({\n",
       "            paths: {\n",
       "                'plotly': ['https://cdn.plot.ly/plotly-2.12.1.min']\n",
       "            }\n",
       "        });\n",
       "        require(['plotly'], function(Plotly) {\n",
       "            window._Plotly = Plotly;\n",
       "        });\n",
       "        }\n",
       "        </script>\n",
       "        "
      ]
     },
     "metadata": {},
     "output_type": "display_data"
    }
   ],
   "source": [
    "import pandas as pd\n",
    "import numpy as np\n",
    "import chart_studio.plotly as py\n",
    "import cufflinks as cf\n",
    "import seaborn as sns\n",
    "import plotly.express as px\n",
    "import plotly.graph_objects as go\n",
    "%matplotlib inline\n",
    "from plotly.offline import download_plotlyjs,init_notebook_mode, plot, iplot\n",
    "init_notebook_mode(connected=True)\n",
    "cf.go_offline()"
   ]
  },
  {
   "cell_type": "code",
   "execution_count": null,
   "id": "791e3f24",
   "metadata": {},
   "outputs": [],
   "source": [
    "df = pd.read_csv(\"https://s3.eu-central-1.amazonaws.com/mda.project.monaco/project_data.csv\")"
   ]
  },
  {
   "cell_type": "code",
   "execution_count": null,
   "id": "78330222",
   "metadata": {},
   "outputs": [],
   "source": [
    "# Convert timestamp to time format\n",
    "df['result_timestamp'] = pd.to_datetime(df['result_timestamp'], format=\"%Y-%m-%d %H:%M:%S\")"
   ]
  },
  {
   "cell_type": "code",
   "execution_count": null,
   "id": "1883a6c4",
   "metadata": {},
   "outputs": [],
   "source": [
    "# Add time and date column, make a data set for further plots\n",
    "df['time'] = df['result_timestamp'].dt.time\n",
    "df['date'] = df['result_timestamp'].dt.date\n",
    "df_month=  df.groupby(by=[\"month\", \"time\"]).mean().reset_index()"
   ]
  },
  {
   "cell_type": "code",
   "execution_count": null,
   "id": "b61787c2",
   "metadata": {},
   "outputs": [],
   "source": [
    "df.head()"
   ]
  },
  {
   "cell_type": "code",
   "execution_count": null,
   "id": "49e4c20a",
   "metadata": {},
   "outputs": [],
   "source": [
    "# groupby night of weeks and time and reset index\n",
    "df_01_grouped = df.groupby(by=[\"night_of_week\", \"time\"]).mean().reset_index()"
   ]
  },
  {
   "cell_type": "code",
   "execution_count": null,
   "id": "f52b3d0a",
   "metadata": {},
   "outputs": [],
   "source": [
    "#plot by day of week\n",
    "fig = px.line_3d(df_01_grouped, x=\"time\", y=\"night_of_week\", z= \"laeq\", title= \"Location 01 - March\" )\n",
    "fig.show()"
   ]
  },
  {
   "cell_type": "code",
   "execution_count": null,
   "id": "1b1ed43b",
   "metadata": {},
   "outputs": [],
   "source": [
    "fig = px.line_3d(df, x=\"time\", y=\"laeq\", z= \"description\", title= \"Location 01 - March\" )\n",
    "fig.show()"
   ]
  },
  {
   "cell_type": "code",
   "execution_count": null,
   "id": "f3cee492",
   "metadata": {},
   "outputs": [],
   "source": [
    "#work on place number 2\n",
    " #filter to have onlyMP 02: Naamsestraat 57 Xior\n",
    "df_01 = df.query(\"description=='MP 02: Naamsestraat 57 Xior'\")\n",
    "df=df_01\n",
    "df.head()"
   ]
  },
  {
   "cell_type": "code",
   "execution_count": null,
   "id": "e6ed1f04",
   "metadata": {},
   "outputs": [],
   "source": [
    "# groupby night of weeks and time and reset index\n",
    "df_grouped = df.groupby(by=[\"night_of_week\", \"time\"]).mean().reset_index()"
   ]
  },
  {
   "cell_type": "code",
   "execution_count": null,
   "id": "1748228c",
   "metadata": {},
   "outputs": [],
   "source": [
    "fig = px.line_3d(df_grouped, x=\"time\", y=\"night_of_week\", z= \"laeq\", color='night_of_week',title= \"day stats over the year\" )\n",
    "fig.show()"
   ]
  },
  {
   "cell_type": "code",
   "execution_count": null,
   "id": "c59b2da4",
   "metadata": {},
   "outputs": [],
   "source": [
    "fig = px.scatter_3d(df_grouped, x=\"time\", y=\"night_of_week\", z= \"laeq\", color='night_of_week',\n",
    "                   opacity=0.7, width=800, height=400)\n",
    "fig"
   ]
  },
  {
   "cell_type": "code",
   "execution_count": null,
   "id": "3c5235c7",
   "metadata": {},
   "outputs": [],
   "source": [
    "fig = px.line_3d(df_month, x=\"month\", y=\"time\", z= \"laeq\", color='month',title= \"monthly\" )\n",
    "fig.show()"
   ]
  },
  {
   "cell_type": "code",
   "execution_count": null,
   "id": "ac847c1e",
   "metadata": {},
   "outputs": [],
   "source": [
    "fig = px.density_heatmap(df_grouped, x=\"time\", y=\"night_of_week\", z= \"laeq\", \n",
    "                         color_continuous_scale=\"Viridis\")\n",
    "fig"
   ]
  },
  {
   "cell_type": "code",
   "execution_count": null,
   "id": "a773063e",
   "metadata": {},
   "outputs": [],
   "source": [
    "#heatmap\n",
    "fig = px.density_heatmap(df_month, x='time', y='month', z='laeq', \n",
    "                         color_continuous_scale=\"Viridis\")\n",
    "fig"
   ]
  },
  {
   "cell_type": "code",
   "execution_count": null,
   "id": "06edfd7c",
   "metadata": {},
   "outputs": [],
   "source": [
    "df_md=df.groupby(by=[\"month\", \"night_of_week\"]).mean().reset_index()"
   ]
  },
  {
   "cell_type": "code",
   "execution_count": null,
   "id": "40de4c5d",
   "metadata": {},
   "outputs": [],
   "source": [
    "fig = px.line_3d(df_md, x=\"month\", y=\"night_of_week\", z= \"laeq\", color='month',title= \"month vs day\" )\n",
    "fig.show()"
   ]
  },
  {
   "cell_type": "code",
   "execution_count": null,
   "id": "77b1c67f",
   "metadata": {},
   "outputs": [],
   "source": [
    "#scatter 3d\n",
    "fig = px.scatter_3d(df_md, x=\"month\", y=\"night_of_week\", z= \"laeq\", color='night_of_week',\n",
    "                   opacity=0.7, width=800, height=400)\n",
    "fig"
   ]
  }
 ],
 "metadata": {
  "kernelspec": {
   "display_name": "Python 3 (ipykernel)",
   "language": "python",
   "name": "python3"
  },
  "language_info": {
   "codemirror_mode": {
    "name": "ipython",
    "version": 3
   },
   "file_extension": ".py",
   "mimetype": "text/x-python",
   "name": "python",
   "nbconvert_exporter": "python",
   "pygments_lexer": "ipython3",
   "version": "3.9.13"
  }
 },
 "nbformat": 4,
 "nbformat_minor": 5
}
