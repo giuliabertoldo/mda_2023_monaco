{
 "cells": [
  {
   "cell_type": "code",
   "execution_count": 1,
   "metadata": {},
   "outputs": [],
   "source": [
    "import os\n",
    "%run gmaps_locations_functions.py"
   ]
  },
  {
   "cell_type": "code",
   "execution_count": 17,
   "metadata": {},
   "outputs": [],
   "source": [
    "# Create dataframe with latitude, longitude and name of the locations where noise was recorded\n",
    "df_coordinates = pd.DataFrame(\n",
    "    [[\"01\", \"50.87725045952269\", \"4.700713376547312\"],\n",
    "     [\"02\", \"50.87667332973864\", \"4.700680922840582\"],\n",
    "     [\"03\", \"50.875965600507456\", \"4.7002780085017495\"],\n",
    "     [\"04\", \"50.87563410304464\", \"4.700197458227693\"],\n",
    "     [\"05\", \"50.87464931652004\", \"4.699889649514398\"],\n",
    "     [\"06\", \"50.87424051538546\", \"4.700098238567968\"],\n",
    "     [\"07\", \"50.873946807679744\", \"4.700107077294445\"],\n",
    "     [\"Vrijthof\", \"50.879041132675574\", \"4.701208864753383\"]\n",
    "    ], \n",
    "     columns = [\"location_name\", \"lat\", \"lon\"]\n",
    ")"
   ]
  },
  {
   "cell_type": "code",
   "execution_count": 24,
   "metadata": {},
   "outputs": [],
   "source": [
    "# Create urls to send request to google maps api to obtain the locals within a radius of 100 m from the location \n",
    "radius = \"radius=100\"\n",
    "keyword = \"keyword=nightlife\"\n",
    "key = \"key=\"+api_key\n",
    "\n",
    "urls = []\n",
    "for i, row in df_coordinates.iterrows():\n",
    "    location= \"location=\" +row[\"lat\"]+\"%2C\"+row[\"lon\"]\n",
    "    urls.append(\"https://maps.googleapis.com/maps/api/place/nearbysearch/json?\"+location+\"&\"+radius+\"&\"+keyword+\"&\"+key) \n",
    "\n",
    "# Add urls to dataframe\n",
    "df_coordinates[\"url\"] = urls"
   ]
  },
  {
   "cell_type": "code",
   "execution_count": 95,
   "metadata": {},
   "outputs": [],
   "source": [
    "# For each location where noise was measured, create a dataframe with the details of locals around that location (name, rating, opening hours). Save as csv \n",
    "\n",
    "for i, url in enumerate(urls): \n",
    "    name = \"location%d\" %(i)\n",
    "\n",
    "    df_out = locals_details(url)\n",
    "\n",
    "    df_out.to_csv(\"data/%s\" %(name))\n",
    "    "
   ]
  },
  {
   "cell_type": "code",
   "execution_count": 5,
   "metadata": {},
   "outputs": [],
   "source": [
    "# Rename files and upload to s3 bucket for further processing \n",
    "os.rename(\"data/location0\", \"data/location01\")\n",
    "os.rename(\"data/location1\", \"data/location02\")\n",
    "os.rename(\"data/location2\", \"data/location03\")\n",
    "os.rename(\"data/location3\", \"data/location04\")\n",
    "os.rename(\"data/location4\", \"data/location05\")\n",
    "os.rename(\"data/location5\", \"data/location06\")\n",
    "os.rename(\"data/location6\", \"data/location07\")\n",
    "os.rename(\"data/location7\", \"data/locationVrijthof\")"
   ]
  }
 ],
 "metadata": {
  "kernelspec": {
   "display_name": "mda_2023_monaco_env",
   "language": "python",
   "name": "python3"
  },
  "language_info": {
   "codemirror_mode": {
    "name": "ipython",
    "version": 3
   },
   "file_extension": ".py",
   "mimetype": "text/x-python",
   "name": "python",
   "nbconvert_exporter": "python",
   "pygments_lexer": "ipython3",
   "version": "3.9.5"
  },
  "orig_nbformat": 4
 },
 "nbformat": 4,
 "nbformat_minor": 2
}
