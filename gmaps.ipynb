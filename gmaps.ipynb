{
 "cells": [
  {
   "cell_type": "code",
   "execution_count": 85,
   "metadata": {},
   "outputs": [],
   "source": [
    "%run gmaps_functions.py"
   ]
  },
  {
   "cell_type": "code",
   "execution_count": 74,
   "metadata": {},
   "outputs": [],
   "source": [
    "# Initialize API key. This should be generated following the steps:\n",
    "# 1. Create Google Cloud account and activate free trial\n",
    "# 2. Create project\n",
    "# 3. Enable places API in the project \n",
    "# 4. Copy your API key \n",
    "api_key = \"<paste your key here>\""
   ]
  },
  {
   "cell_type": "code",
   "execution_count": 75,
   "metadata": {},
   "outputs": [],
   "source": [
    "# Use the \"Nearby search\" endpoint. As location we set the center of Naamsesstraat: lat 50.874159985886145, lon 4.699935896350713\n",
    "location=\"location=50.874159985886145%2C4.699935896350713\"\n",
    "radius = \"radius=1000\"\n",
    "keyword = \"keyword=nightlife\"\n",
    "key = \"key=\"+api_key\n",
    "      \n",
    "url = \"https://maps.googleapis.com/maps/api/place/nearbysearch/json?\"+location+\"&\"+radius+\"&\"+keyword+\"&\"+key "
   ]
  },
  {
   "cell_type": "code",
   "execution_count": 76,
   "metadata": {},
   "outputs": [],
   "source": [
    "# First API call: it returns a maximum of 20 results \n",
    "# Therefore, get token to make another call and retrieve other 20 results  \n",
    "data = get_data_first(url)\n",
    "results = data[\"results\"]\n",
    "token = data[\"next_page_token\"]"
   ]
  },
  {
   "cell_type": "code",
   "execution_count": 77,
   "metadata": {},
   "outputs": [],
   "source": [
    "# Second API call with token\n",
    "data_with_token = get_data_with_token(token, results, api_key)\n",
    "results = results + data_with_token[0]\n",
    "token = data_with_token[1]"
   ]
  },
  {
   "cell_type": "code",
   "execution_count": 78,
   "metadata": {},
   "outputs": [],
   "source": [
    "# For all places identified in the previous steo, call the place details endpoint to retrieve details on these places including ratings and opening hours\n",
    "details = []\n",
    "for i, content in enumerate (results):\n",
    "    id = (content['place_id'])\n",
    "\n",
    "    url = \"https://maps.googleapis.com/maps/api/place/details/json?fields=name%2Crating%2Copening_hours&place_id=\"+id+\"&key=\"+api_key\n",
    "\n",
    "    payload={}\n",
    "    headers = {}\n",
    "\n",
    "    response = requests.request(\"GET\", url, headers=headers, data=payload)\n",
    "\n",
    "    data = json.loads(response.text)\n",
    "\n",
    "    details.append(data[\"result\"])"
   ]
  },
  {
   "cell_type": "code",
   "execution_count": 86,
   "metadata": {},
   "outputs": [],
   "source": [
    "# Clean the details returned from the previous call and store in a dataframe and save as csv.\n",
    "\n",
    "df_out = get_dataframe_with_info (details )  \n",
    "df_out.to_csv('data/locals_info.csv', index=False)  \n"
   ]
  }
 ],
 "metadata": {
  "kernelspec": {
   "display_name": "mda_2023_monaco_env",
   "language": "python",
   "name": "python3"
  },
  "language_info": {
   "codemirror_mode": {
    "name": "ipython",
    "version": 3
   },
   "file_extension": ".py",
   "mimetype": "text/x-python",
   "name": "python",
   "nbconvert_exporter": "python",
   "pygments_lexer": "ipython3",
   "version": "3.9.5"
  },
  "orig_nbformat": 4
 },
 "nbformat": 4,
 "nbformat_minor": 2
}
